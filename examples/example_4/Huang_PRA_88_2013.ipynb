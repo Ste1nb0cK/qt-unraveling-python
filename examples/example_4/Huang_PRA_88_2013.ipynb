{
 "cells": [
  {
   "cell_type": "markdown",
   "metadata": {},
   "source": [
    "### S.Y. Huang et al, Phys. Rev. A 88, 6 2013"
   ]
  },
  {
   "cell_type": "markdown",
   "metadata": {},
   "source": [
    "This article proposes a feedback implementation for the production of W qubit states open to the enviroment."
   ]
  },
  {
   "cell_type": "code",
   "execution_count": 1,
   "metadata": {},
   "outputs": [],
   "source": [
    "from scipy.integrate import solve_ivp\n",
    "import matplotlib.pyplot as plt\n",
    "import numpy as np\n",
    "import qt_unraveling as qtr\n",
    "\n",
    "import matplotlib\n",
    "matplotlib.rcParams.update({\n",
    "    'font.family': 'serif',\n",
    "    'text.usetex': True,\n",
    "    'pgf.rcfonts': False,\n",
    "})\n",
    "\n",
    "%load_ext autotime\n",
    "%load_ext line_profiler"
   ]
  },
  {
   "cell_type": "code",
   "execution_count": 2,
   "metadata": {},
   "outputs": [
    {
     "name": "stdout",
     "output_type": "stream",
     "text": [
      "time: 38.6 ms\n"
     ]
    }
   ],
   "source": [
    "## Useful definitions and matrices\n",
    "Sigmax_1 = np.kron(np.kron(qtr.sigmax,np.eye(2)),np.eye(2))\n",
    "Sigmax_2 = np.kron(np.kron(np.eye(2),qtr.sigmax),np.eye(2))\n",
    "Sigmax_3 = np.kron(np.kron(np.eye(2),np.eye(2)),qtr.sigmax)\n",
    "\n",
    "Sigmaz_1 = np.kron(np.kron(qtr.sigmaz,np.eye(2)),np.eye(2))\n",
    "Sigmaz_2 = np.kron(np.kron(np.eye(2),qtr.sigmaz),np.eye(2))\n",
    "Sigmaz_3 = np.kron(np.kron(np.eye(2),np.eye(2)),qtr.sigmaz)\n",
    "Aux1 = Sigmaz_1 + Sigmaz_2 + Sigmaz_3\n",
    "\n",
    "Sigmap_1 = np.kron(np.kron(qtr.sigmap,np.eye(2)),np.eye(2))\n",
    "Sigmap_2 = np.kron(np.kron(np.eye(2),qtr.sigmap),np.eye(2))\n",
    "Sigmap_3 = np.kron(np.kron(np.eye(2),np.eye(2)),qtr.sigmap)\n",
    "Sigmap = np.array([Sigmap_1, Sigmap_2, Sigmap_3])\n",
    "Aux2 = np.sum(Sigmap)\n",
    "\n",
    "Sigmam_1 = np.kron(np.kron(qtr.sigmam,np.eye(2)),np.eye(2))\n",
    "Sigmam_2 = np.kron(np.kron(np.eye(2),qtr.sigmam),np.eye(2))\n",
    "Sigmam_3 = np.kron(np.kron(np.eye(2),np.eye(2)),qtr.sigmam)\n",
    "Sigmam = np.array([Sigmam_1, Sigmam_2, Sigmam_3])\n",
    "Aux3 = np.sum(Sigmam)\n",
    "\n",
    "Aux4 = np.zeros((8, 8), dtype = np.complex128)\n",
    "temp1 = [np.eye(2),np.eye(2),np.eye(2)]\n",
    "temp2 = [np.eye(2),np.eye(2),np.eye(2)]\n",
    "\n",
    "for i in range(3):\n",
    "    temp1[i] = qtr.sigmam\n",
    "    temp2[i] = qtr.sigmap\n",
    "    for j in range(3):\n",
    "        if i != j:\n",
    "            temp1[j] = qtr.sigmap\n",
    "            temp2[j] = qtr.sigmam\n",
    "            Aux4 += np.kron(np.kron(temp1[0],temp1[1]), temp1[2]) + np.kron(np.kron(temp2[0],temp2[1]), temp2[2])\n",
    "            temp1[j] = np.eye(2)\n",
    "            temp2[j] = np.eye(2)\n",
    "    temp1[i] = np.eye(2)\n",
    "    temp2[i] = np.eye(2)\n",
    "#########################################################"
   ]
  },
  {
   "cell_type": "markdown",
   "metadata": {},
   "source": [
    "The set of parameters that characterize the system is taken as the ones indicated by the authors"
   ]
  },
  {
   "cell_type": "code",
   "execution_count": 3,
   "metadata": {},
   "outputs": [
    {
     "name": "stdout",
     "output_type": "stream",
     "text": [
      "time: 16 ms\n"
     ]
    }
   ],
   "source": [
    "### Parameters\n",
    "kappa = 1\n",
    "epsilon = 2*kappa\n",
    "chi = -0.11*kappa\n",
    "g = 10*kappa\n",
    "eta = 1\n",
    "lamb = chi/g\n",
    "Delta = g*g/chi\n",
    "gamma_1 = 4*kappa*1e-3\n",
    "gamma_2 = 4*kappa*1e-3\n",
    "gamma_3 = 4*kappa*1e-3"
   ]
  },
  {
   "cell_type": "markdown",
   "metadata": {},
   "source": [
    "Next we define the logic base |ijk> "
   ]
  },
  {
   "cell_type": "code",
   "execution_count": 4,
   "metadata": {},
   "outputs": [
    {
     "name": "stdout",
     "output_type": "stream",
     "text": [
      "time: 16 ms\n"
     ]
    }
   ],
   "source": [
    "## In order the base corresponds \n",
    "# 0, 0, 0\n",
    "# 0, 0, 1\n",
    "# 0, 1, 0\n",
    "# 0, 1, 1\n",
    "# 1, 0, 0\n",
    "# 1, 0, 1\n",
    "# 1, 1, 0\n",
    "# 1, 1, 1\n",
    "\n",
    "qubit_states = np.array([[0,1],[1,0]], dtype = np.complex128)\n",
    "logic_base = []\n",
    "\n",
    "for i in range(2):\n",
    "    for j in range(2):\n",
    "        for k in range(2):\n",
    "            logic_base.append(np.kron(np.kron(qubit_states[i],qubit_states[j]),qubit_states[k]))\n",
    "logic_base = np.array(logic_base)"
   ]
  },
  {
   "cell_type": "markdown",
   "metadata": {},
   "source": [
    "The unconditional evolution of the system is described as usual by\n",
    "\n",
    "$$ \\dot{\\rho} = -i[H_{eff}, \\rho_c] + \\sum_j \\gamma_j \\mathcal{D}[\\sigma_j^{-}] \\rho + \\kappa \\mathcal{D}[a] \\rho$$.\n",
    "\n",
    "This evolution together with the assumption that $\\omega_r - \\omega_d = 0$ indicates that a cavity coherent state $|\\alpha_x \\rangle$ satisfizes\n",
    "\n",
    "$$ \\dot{\\alpha}_x = - \\chi_x \\alpha_x - i \\epsilon - \\frac{\\kappa}{2} \\alpha_x $$"
   ]
  },
  {
   "cell_type": "code",
   "execution_count": null,
   "metadata": {},
   "outputs": [],
   "source": [
    "chi_x = []\n",
    "for x in logic_base:\n",
    "    x_ = np.transpose(np.conjugate(x))\n",
    "    chi_x.append(np.real(np.dot(np.dot(x_, chi*(Sigmaz_1 + Sigmaz_2 + Sigmaz_3)),x)))\n",
    "chi_x = np.array(chi_x)\n",
    "\n",
    "def d_alpha(t, alpha):\n",
    "    return -1j*chi_x*alpha - 1j*epsilon - 0.5*kappa*alpha\n",
    "\n",
    "sol = solve_ivp(d_alpha, [t[0], t[-1]], np.array([0,0,0,0,0,0,0,0], dtype = np.complex128), t_eval = t, dense_output = True)\n",
    "alpha = sol.sol"
   ]
  },
  {
   "cell_type": "markdown",
   "metadata": {},
   "source": [
    "As we are interested in the evolution of the qubits only, we have to trace the bosonic degrees of freedom. By doing this we get the following effective conditional master equation for the qubits,\n",
    "\n",
    "$$ d\\rho_c = \\big(\\mathcal{L} \\rho_c -i[H_{fb}(t), \\rho_c]\\big)dt +  dW(t) \\sqrt{\\kappa \\eta} \\big( \\mathcal{H}[c_0]\\rho_c  - i[ c_{-\\pi/2}, \\rho_c] \\big) $$\n",
    "\n",
    "where $\\mathcal{L}\\rho_c$ is given by equation (4) of the reference. What follows are the definitions of $\\Gamma_d$, $A_c$, $c_0$ and $c_{-\\pi/2}$"
   ]
  },
  {
   "cell_type": "code",
   "execution_count": null,
   "metadata": {},
   "outputs": [],
   "source": [
    "def Gamma_d(t):\n",
    "    a_x = alpha(t)\n",
    "    Gamma = np.zeros((8,8))\n",
    "    for i in range(8):\n",
    "        for j in range(8):\n",
    "            Gamma[i,j] = (chi_x[i] - chi_x[j])*np.imag(a_x[i]*np.conjugate(a_x[j]))\n",
    "    return Gamma\n",
    "\n",
    "def A_c(t):\n",
    "    a_x = alpha(t)\n",
    "    A = np.zeros((8,8))\n",
    "    for i in range(8):\n",
    "        for j in range(8):\n",
    "            A[i,j] = (chi_x[i] - chi_x[j])*np.real(a_x[i]*np.conjugate(a_x[j]))\n",
    "    return A\n",
    "\n",
    "def c_0(t):\n",
    "    aux = alpha(t)\n",
    "    sqrt_gamma_0 = 0.25*(aux[7] - aux[0] + aux[6] - aux[1])\n",
    "    sqrt_gamma_1 = 0.25*(aux[0] - aux[7] + 3*aux[1] - 3*aux[6])\n",
    "    return 0.5*sqrt_gamma_0*(Sigmaz_1 + Sigmaz_2 + Sigmaz_3) - 0.5*sqrt_gamma_1*np.kron(np.kron(qtr.sigmaz,qtr.sigmaz),qtr.sigmaz)\n",
    "\n",
    "def c_pi_2(t):\n",
    "    aux = alpha(t)\n",
    "    sqrt_gamma_2 = 0.25*1j*(aux[7] + aux[0] - aux[6] - aux[1])\n",
    "    return 0.5*sqrt_gamma_2*(np.kron(np.kron(qtr.sigmaz,qtr.sigmaz),np.eye(2)) + np.kron(np.kron(np.eye(2),qtr.sigmaz),qtr.sigmaz) + np.kron(np.kron(qtr.sigmaz,np.eye(2)),qtr.sigmaz))"
   ]
  },
  {
   "cell_type": "markdown",
   "metadata": {},
   "source": [
    "The feedback Hamiltonian for this case is defined as $H_{fb} = \\sum_i f_i \\sigma_i^{x}$, where $f_i = f sgn\\Big( \\langle -i[\\rho_{W-}, \\sigma_j^{x}] \\rangle_c \\Big)$"
   ]
  },
  {
   "cell_type": "code",
   "execution_count": null,
   "metadata": {},
   "outputs": [],
   "source": [
    "psi_w_ = np.sqrt(1./3.)*(np.kron(np.kron(qubit_states[1], qubit_states[0]), qubit_states[0]) + np.kron(np.kron(qubit_states[0], qubit_states[1]), qubit_states[0]) + np.kron(np.kron(qubit_states[0], qubit_states[0]), qubit_states[1]))\n",
    "rho_w_ = np.asarray(np.transpose(np.asmatrix(psi_w_)).dot(np.conjugate(np.asmatrix(psi_w_))))  \n",
    "\n",
    "def H_f(t, rho):\n",
    "    f = 2*kappa\n",
    "    a1 = f*np.sign(np.trace(np.dot(-1j*qtr.opCom(rho_w_, Sigmax_1), rho)))\n",
    "    a2 = f*np.sign(np.trace(np.dot(-1j*qtr.opCom(rho_w_, Sigmax_2), rho)))\n",
    "    a3 = f*np.sign(np.trace(np.dot(-1j*qtr.opCom(rho_w_, Sigmax_3), rho)))\n",
    "    return a1*Sigmax_1 + a2*Sigmax_2 + a3*Sigmax_3"
   ]
  },
  {
   "cell_type": "markdown",
   "metadata": {},
   "source": [
    "We define now a System class instance specifying the initial state and the time span of the system"
   ]
  },
  {
   "cell_type": "code",
   "execution_count": null,
   "metadata": {},
   "outputs": [],
   "source": [
    "### psi_i\n",
    "#psi0 = (1/np.sqrt(8))*np.kron(np.kron(np.array([1,1], dtype = np.complex128),np.array([1,1], dtype = np.complex128)),np.array([1,1], dtype = np.complex128))\n",
    "\n",
    "### 1 1 1\n",
    "#psi0 = np.kron(np.kron(qubit_states[1], qubit_states[1]), qubit_states[1])\n",
    "\n",
    "### psi_W\n",
    "psi0 = psi_w_\n",
    "\n",
    "### time span\n",
    "t = np.linspace(0, 100, 100000)\n",
    "\n",
    "### System class\n",
    "qubits = qtr.System(0, psi0, t)"
   ]
  },
  {
   "cell_type": "markdown",
   "metadata": {},
   "source": [
    "As the effective master equation for this system has the form\n",
    "\n",
    "$$ d\\rho_c = L[\\rho_c]dt + \\vec{dW} \\cdot \\vec{G}[\\rho_c] $$\n",
    "\n",
    "we can make use of the ```custom``` methods. In this case, the average trajectory for this system can be obtained by calling the method ```customRhoAverage```. Using the auxiliary functions provided by the library we define the super operators $L$ and $G$ as follows"
   ]
  },
  {
   "cell_type": "code",
   "execution_count": null,
   "metadata": {},
   "outputs": [],
   "source": [
    "def super_op_L(t, rho):\n",
    "    A = 0.5*chi*Aux1 + 0.5*chi*Aux4\n",
    "    B = epsilon*lamb*(np.exp(1j*Delta*t)*Aux2 + np.exp(-1j*Delta*t)*Aux3)\n",
    "    \n",
    "    c_1 = np.array([np.sqrt(gamma_1)*Sigmam_1, np.sqrt(gamma_2)*Sigmam_2, np.sqrt(gamma_3)*Sigmam_3])\n",
    "    c_2 = np.array([np.sqrt(kappa)*lamb*Aux3])\n",
    "    \n",
    "    Gamma = Gamma_d(t)\n",
    "    Ac = A_c(t)\n",
    "        \n",
    "    return -1j*qtr.opCom(A + B, rho) + qtr.opD(c_1, rho) + qtr.opD(c_2, rho) - 1j*qtr.opCom(H_f(t, rho), rho) + (Gamma - 1j*Ac)*rho\n",
    "\n",
    "def super_op_G(t, rho):\n",
    "    return np.array([(np.sqrt(kappa*eta)*qtr.opH(c_0(t), rho) - 1j*np.sqrt(kappa*eta)*qtr.opCom(c_pi_2(t), rho))])"
   ]
  },
  {
   "cell_type": "code",
   "execution_count": 7,
   "metadata": {},
   "outputs": [
    {
     "name": "stdout",
     "output_type": "stream",
     "text": [
      "Cpu cores available:  8\n",
      "time: 56min 37s\n"
     ]
    }
   ],
   "source": [
    "### Trajectory average \n",
    "rho_t = qubits.customRhoAverage(1000, L = super_op_L, G = super_op_G, method = 'euler')"
   ]
  },
  {
   "cell_type": "markdown",
   "metadata": {},
   "source": [
    "Finally, the fidelity measure for this case is taken as $F(t) = Tr[\\rho_{W-}, \\rho(t)]$"
   ]
  },
  {
   "cell_type": "code",
   "execution_count": 8,
   "metadata": {},
   "outputs": [
    {
     "name": "stdout",
     "output_type": "stream",
     "text": [
      "time: 514 ms\n"
     ]
    }
   ],
   "source": [
    "### Fidelity\n",
    "fid = []\n",
    "for i in range(len(t)):\n",
    "    fid.append(np.real(np.trace(np.dot(rho_t[i], rho_w_))))\n",
    "np.save('data/data_w_.npy', np.array([t, fid]))"
   ]
  },
  {
   "cell_type": "code",
   "execution_count": 3,
   "metadata": {
    "scrolled": true
   },
   "outputs": [
    {
     "data": {
      "image/png": "[encoded data removed]",
      "text/plain": [
       "<Figure size 936x288 with 1 Axes>"
      ]
     },
     "metadata": {
      "needs_background": "light"
     },
     "output_type": "display_data"
    },
    {
     "name": "stdout",
     "output_type": "stream",
     "text": [
      "time: 10.8 s\n"
     ]
    }
   ],
   "source": [
    "plt.rcParams.update({'font.size': 18})\n",
    "fig, axs = plt.subplots(nrows=1, ncols=1)\n",
    "fig.set_size_inches(w=13, h=4)\n",
    "\n",
    "data0 = np.load('data/data_111.npy')\n",
    "data1 = np.load('data/data_w_.npy')\n",
    "data2 = np.load('data/data_psi.npy')\n",
    "axs.set_xlabel(r'$\\kappa t$')\n",
    "axs.set_ylabel(r'$F$')\n",
    "axs.plot(data0[0], data0[1], label = r'$| 1 1 1 \\rangle$')\n",
    "axs.plot(data1[0], data1[1], label = r'$| W^{-} \\rangle$')\n",
    "axs.plot(data2[0], data2[1], label = r'$| \\psi_i \\rangle$')\n",
    "axs.set_ylim(0.85,1)\n",
    "axs.set_xlim(-1,100)\n",
    "\n",
    "axs.tick_params(axis='both', which = 'major', reset = True, direction='in', length = 5, width=0.5, colors='black', grid_color='grey', grid_alpha=0.3)\n",
    "axs.tick_params(axis='both', which = 'minor', reset = True, direction='in', length = 3, width=0.5, colors='black', grid_color='grey', grid_alpha=0.3)\n",
    "\n",
    "axs.yaxis.set_ticks(np.linspace(0.85,1,6))\n",
    "axs.xaxis.set_ticks(np.linspace(0,100,11))\n",
    "\n",
    "axs.legend()\n",
    "plt.tight_layout()\n",
    "plt.show()"
   ]
  }
 ],
 "metadata": {
  "kernelspec": {
   "display_name": "Python 3",
   "language": "python",
   "name": "python3"
  },
  "language_info": {
   "codemirror_mode": {
    "name": "ipython",
    "version": 3
   },
   "file_extension": ".py",
   "mimetype": "text/x-python",
   "name": "python",
   "nbconvert_exporter": "python",
   "pygments_lexer": "ipython3",
   "version": "3.8.3"
  }
 },
 "nbformat": 4,
 "nbformat_minor": 2
}

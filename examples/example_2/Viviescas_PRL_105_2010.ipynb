{
 "cells": [
  {
   "cell_type": "markdown",
   "metadata": {},
   "source": [
    "### Viviescas Phys. Rev. Lett. 105 2010"
   ]
  },
  {
   "cell_type": "code",
   "execution_count": null,
   "metadata": {},
   "outputs": [],
   "source": [
    "import matplotlib.pyplot as plt\n",
    "import numpy as np\n",
    "import qt_unraveling as qtr\n",
    "\n",
    "plt.rcParams['text.usetex'] = True\n",
    "plt.rcParams.update({'font.size': 18})\n",
    "plt.rcParams['figure.figsize'] = [10,5]\n",
    "\n",
    "%load_ext autotime\n",
    "%load_ext line_profiler"
   ]
  },
  {
   "cell_type": "code",
   "execution_count": 3,
   "metadata": {
    "scrolled": false
   },
   "outputs": [
    {
     "name": "stdout",
     "output_type": "stream",
     "text": [
      "time: 40.9 ms\n"
     ]
    }
   ],
   "source": [
    "## Viviescas Phys. Rev. Lett. 105 2010\n",
    "\n",
    "## main()\n",
    "sigmax = np.array([[0,1],[1,0]], dtype = np.complex128)\n",
    "sigmay = np.array([[0,-1j],[1j,0]], dtype = np.complex128)\n",
    "sigmaz = np.array([[1,0],[0,-1]], dtype = np.complex128)\n",
    "sigmap = 0.5*(sigmax + 1j*sigmay)\n",
    "sigmam = 0.5*(sigmax - 1j*sigmay)\n",
    "\n",
    "qub0 = np.array([0,1], dtype = np.complex128)\n",
    "qub1 = np.array([1,0], dtype = np.complex128)\n",
    "\n",
    "#### Parameters \n",
    "gamma = 2\n",
    "t0 = 0\n",
    "tf = 1\n",
    "time_steps = 500\n",
    "\n",
    "## Time range\n",
    "t = np.linspace(t0, tf, np.int32(time_steps))\n",
    "\n",
    "## Initial state \n",
    "psi00 = (1/np.sqrt(8))\n",
    "psi01 = (1/np.sqrt(8))*(-1)\n",
    "psi10 = (1/np.sqrt(8))*1j\n",
    "psi11 = (1/np.sqrt(8))*1j*np.sqrt(5)\n",
    "psi0 = (psi00*np.kron(qub0,qub0) + psi01*np.kron(qub0,qub1) + psi10*np.kron(qub1,qub0) + psi11*np.kron(qub1,qub1))\n",
    "\n",
    "## Hamiltonian\n",
    "def H(t):\n",
    "    return np.zeros((4,4), dtype = np.complex128)\n",
    "\n",
    "## Lindblad operators\n",
    "def L(t):\n",
    "    return [np.sqrt(gamma)*np.kron(sigmam, np.eye(2)), np.sqrt(gamma)*np.kron(np.eye(2),sigmam)]\n",
    "\n",
    "## Concurrence\n",
    "def C(psi):\n",
    "    op = np.kron(sigmay,sigmay)\n",
    "    return np.linalg.norm(np.dot(psi,np.dot(op,psi)))\n",
    "\n",
    "def C_rho(rho):\n",
    "    op = np.kron(sigmay,sigmay)\n",
    "    rho_ = np.dot(op,np.dot(np.conjugate(rho),op))\n",
    "    rhorho_ = np.dot(rho,rho_)\n",
    "    lambda_ = np.sqrt(np.abs(np.real(-1*np.sort(-1*np.linalg.eig(rhorho_)[0]))))\n",
    "    return np.max(np.array([0, np.abs(lambda_[0] - lambda_[1] - lambda_[2] - lambda_[3])]))\n",
    "\n",
    "def C_bar(psi):\n",
    "    op = np.kron(sigmay,sigmay)\n",
    "    return np.dot(psi,np.dot(op,psi))\n",
    "\n",
    "## Theta opt\n",
    "theta_opt = np.angle(np.conjugate(C_bar(psi0))*(psi11)**2)\n",
    "\n",
    "## Unraveling\n",
    "u_opt = np.array([[0, -1*np.exp(1j*theta_opt)],[-1*np.exp(1j*theta_opt), 0]], dtype = np.complex128)\n",
    "#o_matrix = 0.5*np.array([[1,1,1,1],[1,1,-1,-1],[1,-1,1,-1],[1,-1,-1,1]])\n",
    "o_matrix = np.eye(4)"
   ]
  },
  {
   "cell_type": "code",
   "execution_count": 4,
   "metadata": {},
   "outputs": [
    {
     "name": "stdout",
     "output_type": "stream",
     "text": [
      "time: 30.1 ms\n"
     ]
    }
   ],
   "source": [
    "## Class object\n",
    "qubits = qtr.System(H, psi0, t, lindbladList = L, uMatrix = u_opt, oMatrix = o_matrix)"
   ]
  },
  {
   "cell_type": "code",
   "execution_count": 5,
   "metadata": {},
   "outputs": [
    {
     "name": "stdout",
     "output_type": "stream",
     "text": [
      "time: 2min 2s\n"
     ]
    }
   ],
   "source": [
    "## Psi emsemble\n",
    "n_traj = 100\n",
    "psi_ensemble = qubits.diffusivePsiEnsemble(n_traj, method = 'milstein')\n",
    "psi_ensemble2 = qubits.diffusivePsiEnsemble(n_traj, method = 'euler')"
   ]
  },
  {
   "cell_type": "code",
   "execution_count": 6,
   "metadata": {},
   "outputs": [
    {
     "name": "stdout",
     "output_type": "stream",
     "text": [
      "time: 13.6 s\n"
     ]
    }
   ],
   "source": [
    "## Analitical concurrence\n",
    "lind_evo = qubits.lindbladAnalitical()\n",
    "EC = []\n",
    "\n",
    "## Avarage Concurrence\n",
    "C_vec2 = []\n",
    "C_vec = []\n",
    "\n",
    "for it in range(time_steps):\n",
    "    C_aux = 0\n",
    "    C_aux2 = 0\n",
    "    for n in range(n_traj):\n",
    "        C_aux += (1./n_traj)*C(psi_ensemble[n][it])\n",
    "        C_aux2 += (1./n_traj)*C(psi_ensemble2[n][it])\n",
    "    C_vec.append(C_aux)\n",
    "    C_vec2.append(C_aux2)\n",
    "    EC.append(C_rho(lind_evo[it]))"
   ]
  },
  {
   "cell_type": "code",
   "execution_count": 10,
   "metadata": {},
   "outputs": [
    {
     "data": {
      "image/png": "[encoded data removed]",
      "text/plain": [
       "<Figure size 720x360 with 1 Axes>"
      ]
     },
     "metadata": {
      "needs_background": "light"
     },
     "output_type": "display_data"
    },
    {
     "name": "stdout",
     "output_type": "stream",
     "text": [
      "time: 296 ms\n"
     ]
    }
   ],
   "source": [
    "## Time scaling\n",
    "p = 1 - np.exp(-gamma*t)\n",
    "\n",
    "# Plot\n",
    "plt.ylim(0,1)\n",
    "plt.plot(p, C_vec, label = r'Unraveling milstein')\n",
    "plt.plot(p, C_vec2, label = r'Unraveling euler')\n",
    "plt.plot(p, EC, label = 'Analitical')\n",
    "plt.xlabel(r'$p$')\n",
    "plt.ylabel(r'$C(p)$')\n",
    "plt.legend()\n",
    "plt.show()"
   ]
  }
 ],
 "metadata": {
  "kernelspec": {
   "display_name": "Python 3",
   "language": "python",
   "name": "python3"
  },
  "language_info": {
   "codemirror_mode": {
    "name": "ipython",
    "version": 3
   },
   "file_extension": ".py",
   "mimetype": "text/x-python",
   "name": "python",
   "nbconvert_exporter": "python",
   "pygments_lexer": "ipython3",
   "version": "3.8.3"
  }
 },
 "nbformat": 4,
 "nbformat_minor": 2
}

{
 "cells": [
  {
   "cell_type": "markdown",
   "metadata": {},
   "source": [
    "### Carvalho et al. Phys. Rev. Lett. 98 2007"
   ]
  },
  {
   "cell_type": "markdown",
   "metadata": {},
   "source": [
    "In this reference the different unravelings are based in the invariance of the Lindblad equation under unitary and shift tranformation of the Lindblad operators $\\hat{J}_k$, that is, in the fact that $\\dot{\\rho} = -i[H, \\rho] + \\mathcal{L}_k \\rho$ is invariant under the following transformations:\n",
    "\n",
    "$$ \\hat{J}_{k} \\rightarrow  \\mu_k + U_{kl} \\hat{J}_{l}$$ and $$ H \\rightarrow H - \\frac{i}{2} \\sum_k (\\mu_k^* \\hat{J}_k - \\mu_k \\hat{J}^\\dagger_k) $$ \n",
    "\n",
    "where $U$ is given by\n",
    "$$U = \\begin{pmatrix}\\alpha e^{i \\theta} & \\beta e^{i\\varphi}\\\\\\ -\\beta e^{-i \\varphi} & \\alpha e^{-i \\theta}\\end{pmatrix}.$$\n",
    "\n",
    "We can get the same results by using the $\\textsf{M}$-parametrization. For this case $\\textsf{M}$ is given by\n",
    "\n",
    "$$ \\textsf{M} = \\begin{pmatrix}\\alpha e^{i \\theta} & \\beta e^{i\\varphi} & 0 & 0\\\\\\ -\\beta e^{-i \\varphi} & \\alpha e^{-i \\theta} & 0 & 0\\end{pmatrix} $$\n",
    "\n",
    "What follows is the reproduction of the main results of $\\textit{Carvalho et al. Phys. Rev. Lett. 98 2007}$ with the use of the quantum jump scheme using its $\\textsf{M}$-parametrization formulation."
   ]
  },
  {
   "cell_type": "code",
   "execution_count": 1,
   "metadata": {},
   "outputs": [],
   "source": [
    "import matplotlib.pyplot as plt\n",
    "import numpy as np\n",
    "import qt_unraveling as qtr\n",
    "\n",
    "plt.rcParams['text.usetex'] = True\n",
    "plt.rcParams.update({'font.size': 18})\n",
    "plt.rcParams['figure.figsize'] = [10,5]\n",
    "\n",
    "%load_ext autotime\n",
    "%load_ext line_profiler"
   ]
  },
  {
   "cell_type": "code",
   "execution_count": 2,
   "metadata": {
    "scrolled": false
   },
   "outputs": [
    {
     "name": "stdout",
     "output_type": "stream",
     "text": [
      "time: 5.56 ms\n"
     ]
    }
   ],
   "source": [
    "## Basic definitions\n",
    "sigmax = np.array([[0,1],[1,0]], dtype = np.complex128)\n",
    "sigmay = np.array([[0,-1j],[1j,0]], dtype = np.complex128)\n",
    "sigmaz = np.array([[1,0],[0,-1]], dtype = np.complex128)\n",
    "sigmap = 0.5*(sigmax + 1j*sigmay)\n",
    "sigmam = 0.5*(sigmax - 1j*sigmay)\n",
    "op = np.kron(sigmay,sigmay)\n",
    "\n",
    "## Basis vectors\n",
    "qub0 = np.array([0,1], dtype = np.complex128)\n",
    "qub1 = np.array([1,0], dtype = np.complex128)\n",
    "\n",
    "#### Parameters \n",
    "gamma = 0.2\n",
    "t0 = 0\n",
    "tf = 5\n",
    "time_steps = 8000\n",
    "\n",
    "## Time range\n",
    "t = np.linspace(t0, tf, np.int32(time_steps))\n",
    "\n",
    "## Analitical concurrence\n",
    "def C_psi(psi):\n",
    "    op = np.kron(sigmay,sigmay)\n",
    "    return np.linalg.norm(np.dot(psi,np.dot(op,psi)))\n",
    "\n",
    "def C_rho(rho):\n",
    "    op = np.kron(sigmay,sigmay)\n",
    "    rho_ = np.dot(op,np.dot(np.conjugate(rho),op))\n",
    "    rhorho_ = np.dot(rho,rho_)\n",
    "    lambda_ = np.sqrt(np.abs(np.real(-1*np.sort(-1*np.linalg.eig(rhorho_)[0]))))\n",
    "    return np.max(np.array([0, np.abs(lambda_[0] - lambda_[1] - lambda_[2] - lambda_[3])]))"
   ]
  },
  {
   "cell_type": "markdown",
   "metadata": {},
   "source": [
    "### CNOT gate\n",
    "The first example consists in a CNOT gate. In this case the optimal unraveling is given for $|\\mu| = 0$, so no continuos limit is needed for this case."
   ]
  },
  {
   "cell_type": "code",
   "execution_count": 3,
   "metadata": {},
   "outputs": [
    {
     "name": "stdout",
     "output_type": "stream",
     "text": [
      "time: 19.9 ms\n"
     ]
    }
   ],
   "source": [
    "## Initial state \n",
    "psi00_1 = np.sqrt(0.5)\n",
    "psi01_1 = 0\n",
    "psi10_1 = np.sqrt(0.5)\n",
    "psi11_1 = 0\n",
    "psi0_1 = (psi00_1*np.kron(qub0,qub0) + psi01_1*np.kron(qub0,qub1) + psi10_1*np.kron(qub1,qub0) + psi11_1*np.kron(qub1,qub1))\n",
    "\n",
    "## Unraveling\n",
    "##############################\n",
    "ki1 = 0\n",
    "ki2 = 0\n",
    "##############################\n",
    "alpha = 0.5\n",
    "beta = np.sqrt(3)*0.5\n",
    "##############################\n",
    "phi = np.sqrt(0.5)*np.pi\n",
    "theta = np.sqrt(0.5)*np.pi\n",
    "##############################\n",
    "\n",
    "## General jump operators\n",
    "mu1 = 0*np.exp(1j*ki1)\n",
    "mu2 = 0*np.exp(1j*ki2)\n",
    "\n",
    "## M parametrization\n",
    "m_matrix = np.zeros((2,4), dtype = np.complex128)\n",
    "U = np.array([[alpha*np.exp(1j*theta),beta*np.exp(1j*phi)],[-beta*np.exp(-1j*phi), alpha*np.exp(-1j*theta)]], dtype = np.complex128)\n",
    "m_matrix[0:2,0:2] = U\n",
    "\n",
    "def J(t):\n",
    "    return [np.sqrt(gamma)*np.kron(np.dot(sigmap,sigmam), np.eye(2)),np.sqrt(gamma)*np.kron(np.eye(2),np.dot(sigmap,sigmam))]\n",
    "\n",
    "## CNOT Hamiltonian\n",
    "def HCNOT(t):\n",
    "    return 2*np.pi*np.eye(4) + (0.5*np.pi)*np.kron(np.dot(sigmap,sigmam),sigmax - np.eye(2))\n",
    "\n",
    "qubits_1_J = qtr.System(HCNOT, psi0_1, t, lindbladList = J, mMatrix = m_matrix, amp = [mu1,mu2,mu1,mu2])"
   ]
  },
  {
   "cell_type": "code",
   "execution_count": 4,
   "metadata": {},
   "outputs": [
    {
     "name": "stdout",
     "output_type": "stream",
     "text": [
      "time: 30min\n"
     ]
    }
   ],
   "source": [
    "## Trajectories ensemble\n",
    "n_traj = 6000\n",
    "rho_average = qubits_1_J.jumpRhoEnsemble(n_traj, traj_type = 'density_matrix', unraveling = True, time_dep = False)"
   ]
  },
  {
   "cell_type": "code",
   "execution_count": 5,
   "metadata": {},
   "outputs": [
    {
     "name": "stdout",
     "output_type": "stream",
     "text": [
      "time: 5min 40s\n"
     ]
    }
   ],
   "source": [
    "lind_evo = qubits_1_J.lindbladAnalitical()\n",
    "########################################################\n",
    "C_vec = []\n",
    "C_analitical = []\n",
    "for it in range(time_steps):\n",
    "    ########################################################\n",
    "    ## Avarage concurrence\n",
    "    ########################################################\n",
    "    C_aux = 0\n",
    "    for n in range(n_traj):\n",
    "        C_aux += (1/n_traj)*C_rho(rho_average[n][it])\n",
    "    C_vec.append(C_aux)\n",
    "    ########################################################\n",
    "    ## Analitical concurrence\n",
    "    ########################################################\n",
    "    C_analitical.append(C_rho(lind_evo[it]))\n",
    "    ########################################################"
   ]
  },
  {
   "cell_type": "code",
   "execution_count": 7,
   "metadata": {},
   "outputs": [
    {
     "data": {
      "image/png": "[encoded data removed]",
      "text/plain": [
       "<Figure size 720x360 with 1 Axes>"
      ]
     },
     "metadata": {
      "needs_background": "light"
     },
     "output_type": "display_data"
    },
    {
     "name": "stdout",
     "output_type": "stream",
     "text": [
      "time: 169 ms\n"
     ]
    }
   ],
   "source": [
    "## Time scaling\n",
    "T_gate = 1/(5*gamma)\n",
    "gt = gamma*t\n",
    "\n",
    "# Plot\n",
    "plt.ylim(0,1)\n",
    "plt.xlim(0,5)\n",
    "plt.scatter((t/T_gate)[::5], C_vec[::5], label = r'Unraveling', facecolors='none', edgecolors='b')\n",
    "#plt.plot((t/T_gate)[::10], C_vec[::10])\n",
    "plt.plot(t/T_gate, C_analitical, label = r'Analitical', color = 'b')\n",
    "plt.xlabel(r'$t/T_{gate}$')\n",
    "plt.ylabel(r'$C(p)$')\n",
    "plt.legend()\n",
    "plt.show()"
   ]
  },
  {
   "cell_type": "markdown",
   "metadata": {},
   "source": [
    "### Frozen dynamics\n",
    "\n",
    "The second example consists on a frozen system ($H = 0$). Unlike the previous case, an homodyne type detection leads to an optimal unraveling. As stated in the reference, $|\\mu| \\rightarrow \\infty$ (that is equivalent to the use of the diffusive unraveling scheme) will converge to the analitical concurence."
   ]
  },
  {
   "cell_type": "code",
   "execution_count": 32,
   "metadata": {},
   "outputs": [
    {
     "name": "stdout",
     "output_type": "stream",
     "text": [
      "time: 12.7 ms\n"
     ]
    }
   ],
   "source": [
    "## First initial state \n",
    "psi00_1 = np.sqrt(0.5)\n",
    "psi01_1 = 0\n",
    "psi10_1 = 0\n",
    "psi11_1 = np.sqrt(0.5)\n",
    "\n",
    "## Second initial state\n",
    "psi00_2 = np.sqrt(1/8)\n",
    "psi01_2 = 0\n",
    "psi10_2 = 0\n",
    "psi11_2 = np.sqrt(7/8)\n",
    "\n",
    "## ki angle\n",
    "ki_1 = 0.5*(np.angle((psi11_1**2)/(psi00_1*psi11_1 - psi01_1*psi10_1)) - 0.5*np.pi)\n",
    "ki_2 = 0.5*(np.angle((psi11_2**2)/(psi00_2*psi11_2 - psi01_2*psi10_2)) - 0.5*np.pi)\n",
    "\n",
    "## Intial states\n",
    "psi0_1 = (psi00_1*np.kron(qub0,qub0) + psi01_1*np.kron(qub0,qub1) + psi10_1*np.kron(qub1,qub0) + psi11_1*np.kron(qub1,qub1))\n",
    "psi0_2 = (psi00_2*np.kron(qub0,qub0) + psi01_2*np.kron(qub0,qub1) + psi10_2*np.kron(qub1,qub0) + psi11_2*np.kron(qub1,qub1))\n",
    "\n",
    "## Jump operators\n",
    "def J(t):\n",
    "    return [np.sqrt(gamma)*np.kron(sigmam, np.eye(2)), np.sqrt(gamma)*np.kron(np.eye(2),sigmam)]\n",
    "\n",
    "## Hamiltonian\n",
    "def H_FROZEN(t):\n",
    "    return np.zeros((4,4), dtype = np.complex128)\n",
    "\n",
    "## Class objects\n",
    "############################\n",
    "ki_1 = 0\n",
    "ki_2 = 0.5*np.pi\n",
    "phi1 = ki_1 - ki_1\n",
    "theta1 = ki_2 - ki_1\n",
    "phi2 = ki_1 - ki_2\n",
    "theta2 = ki_2 - ki_2\n",
    "############################\n",
    "alpha = np.sqrt(0.5)\n",
    "beta = np.sqrt(0.5)\n",
    "############################\n",
    "m_matrix = np.zeros((2,4), dtype = np.complex128)\n",
    "U = np.array([[alpha*np.exp(1j*theta1),beta*np.exp(1j*phi1)],[-beta*np.exp(-1j*phi2), alpha*np.exp(-1j*theta2)]], dtype = np.complex128)\n",
    "m_matrix[0:2,0:2] = U\n",
    "############################\n",
    "mu1_1 = 3*np.exp(1j*0*ki_1)\n",
    "mu2_1  = 3*np.exp(1j*0*ki_1)\n",
    "mu1_2 = 3*np.exp(1j*0*ki_2)\n",
    "mu2_2  = 3*np.exp(1j*0*ki_2)\n",
    "############################\n",
    "qubits_1_J = qtr.System(H_FROZEN, psi0_1, t, lindbladList = J, mMatrix = m_matrix, amp = [mu1_1, mu2_1, mu1_1, mu2_1])\n",
    "qubits_2_J = qtr.System(H_FROZEN, psi0_2, t, lindbladList = J, mMatrix = m_matrix, amp = [mu1_2, mu2_2, mu1_2, mu2_2])"
   ]
  },
  {
   "cell_type": "markdown",
   "metadata": {},
   "source": [
    "The $\\textsf{M}$ matrix that corresponds to the optimal unraveling  is given by"
   ]
  },
  {
   "cell_type": "code",
   "execution_count": 41,
   "metadata": {},
   "outputs": [
    {
     "name": "stdout",
     "output_type": "stream",
     "text": [
      "array([[ 0.+1.j,  1.+0.j,  0.+0.j,  0.+0.j],\n",
      "       [-0.-1.j,  1.+0.j,  0.+0.j,  0.+0.j]])\n",
      "time: 1.68 ms\n"
     ]
    }
   ],
   "source": [
    "print(repr(np.round(qubits_1_J.M_rep)))"
   ]
  },
  {
   "cell_type": "markdown",
   "metadata": {},
   "source": [
    "The above $\\textsf{M}$ matrix parametrizes a homodyne detection of the effective operators $J_2 + i J_1$ and $J_2 - i J_1$. It's quite interesting to note that this $\\textsf{M}$ matrix for the optimal unraveling resembles the one found in $\\textit{Viviescas Phys. Rev. Lett. 105 2010}$, which corresponds to\n",
    "\n",
    "$$ \\textsf{M} = \\frac{e^{-i \\theta_{opt}}}{\\sqrt{2}} \\begin{pmatrix} i & 1 & i & 1\\\\\\ -i & 1 & -i& 1\\end{pmatrix} $$\n",
    "\n",
    "and parametrizes two hetorodyne type detection for two copies of the same quadrature."
   ]
  },
  {
   "cell_type": "code",
   "execution_count": 4,
   "metadata": {},
   "outputs": [
    {
     "name": "stdout",
     "output_type": "stream",
     "text": [
      "time: 1h 49min\n"
     ]
    }
   ],
   "source": [
    "## Trajectories ensemble for finite mu\n",
    "n_traj = 650\n",
    "rho_average_1 = qubits_1_J.jumpRhoEnsemble(n_traj, traj_type = 'density_matrix', unraveling = True, time_dep = False)\n",
    "rho_average_2 = qubits_2_J.jumpRhoEnsemble(n_traj, traj_type = 'density_matrix', unraveling = True, time_dep = False)\n",
    "rho_average_2_inf = qubits_2_J.diffusiveRhoEnsemble(n_traj)"
   ]
  },
  {
   "cell_type": "code",
   "execution_count": null,
   "metadata": {},
   "outputs": [],
   "source": [
    "C1_vec = []\n",
    "C2_vec = []\n",
    "for it in range(time_steps):\n",
    "    ########################################################\n",
    "    ## Avarage concurrence\n",
    "    ########################################################\n",
    "    C_aux1 = 0\n",
    "    C_aux2 = 0\n",
    "    C_aux_inf = 0\n",
    "    for n in range(n_traj):\n",
    "        C_aux1 += (1/n_traj)*C_rho(rho_average_1[n][it])\n",
    "        C_aux2 += (1/n_traj)*C_rho(rho_average_2[n][it])\n",
    "    C1_vec.append(C_aux1)\n",
    "    C2_vec.append(C_aux2)\n",
    "    ########################################################\n",
    "np.save('./data/data_carvalho_finite.npy', np.array([t, C1_vec, C2_vec]))"
   ]
  },
  {
   "cell_type": "markdown",
   "metadata": {},
   "source": [
    "The limit $\\mu \\rightarrow \\infty$ of the discrete quantum jump scheme will be describe by the diffusive scheme"
   ]
  },
  {
   "cell_type": "code",
   "execution_count": 13,
   "metadata": {},
   "outputs": [
    {
     "name": "stdout",
     "output_type": "stream",
     "text": [
      "time: 25min 8s\n"
     ]
    }
   ],
   "source": [
    "## Trajectories ensemble for infinite mu\n",
    "time_steps = 400\n",
    "n_traj = 2000\n",
    "\n",
    "## Time range\n",
    "t = np.linspace(t0, tf, np.int32(time_steps))\n",
    "\n",
    "qubits_1_J = qtr.System(H_FROZEN, psi0_1, t, lindbladList = J, mMatrix = m_matrix, amp = [mu1_2, mu2_2, mu1_2, mu2_2])\n",
    "qubits_2_J = qtr.System(H_FROZEN, psi0_2, t, lindbladList = J, mMatrix = m_matrix, amp = [mu1_2, mu2_2, mu1_2, mu2_2])\n",
    "\n",
    "rho_average_2_inf = qubits_2_J.diffusiveRhoEnsemble(n_traj, method = 'milstein')"
   ]
  },
  {
   "cell_type": "code",
   "execution_count": 24,
   "metadata": {},
   "outputs": [
    {
     "name": "stdout",
     "output_type": "stream",
     "text": [
      "time: 1min 31s\n"
     ]
    }
   ],
   "source": [
    "lind_evo_1 = qubits_1_J.lindbladAnalitical()\n",
    "lind_evo_2 = qubits_2_J.lindbladAnalitical()\n",
    "C_inf_vec = []\n",
    "C_analitical1 = []\n",
    "C_analitical2 = []\n",
    "for it in range(time_steps):\n",
    "    ########################################################\n",
    "    ## Avarage concurrence\n",
    "    ########################################################\n",
    "    C_aux_inf = 0\n",
    "    for n in range(n_traj):\n",
    "        C_aux_inf += (1/n_traj)*C_rho(rho_average_2_inf[n][it])\n",
    "    C_inf_vec.append(C_aux_inf)\n",
    "    ########################################################\n",
    "    ## Analitical concurrence\n",
    "    ########################################################\n",
    "    C_analitical1.append(C_rho(lind_evo_1[it]))\n",
    "    C_analitical2.append(C_rho(lind_evo_2[it]))\n",
    "    ########################################################\n",
    "np.save('./data/data_carvalho_infinite.npy', np.array([t, C_inf_vec, C_analitical1, C_analitical2]))"
   ]
  },
  {
   "cell_type": "code",
   "execution_count": 25,
   "metadata": {},
   "outputs": [
    {
     "data": {
      "image/png": "[encoded data removed]",
      "text/plain": [
       "<Figure size 720x360 with 1 Axes>"
      ]
     },
     "metadata": {
      "needs_background": "light"
     },
     "output_type": "display_data"
    },
    {
     "name": "stdout",
     "output_type": "stream",
     "text": [
      "time: 172 ms\n"
     ]
    }
   ],
   "source": [
    "# data\n",
    "data_finite = np.load('./data/data_carvalho_finite.npy')\n",
    "data_infinite = np.load('./data/data_carvalho_infinite.npy')\n",
    "# Plot\n",
    "plt.ylim(0,1)\n",
    "plt.xlim(0,1)\n",
    "\n",
    "plt.scatter(gamma*data_finite[0][::200], data_finite[1][::200], facecolors='none', edgecolors='g', label = r'$|\\mu| = 3$')\n",
    "plt.scatter(gamma*data_finite[0][::200], data_finite[2][::200], facecolors='none', edgecolors='b', label = r'$|\\mu| = 3$')\n",
    "\n",
    "plt.scatter(gamma*data_infinite[0][::10], data_infinite[1][::10], marker = 's', facecolors='none', edgecolors='b', label = r'$|\\mu| \\rightarrow \\infty$')\n",
    "plt.plot(gamma*data_infinite[0][::10], data_infinite[2][::10], label = r'$\\Psi_0^{(1)}$', color = 'g')\n",
    "plt.plot(gamma*data_infinite[0][::10], data_infinite[3][::10], label = r'$\\Psi_0^{(2)}$', color = 'b')\n",
    "\n",
    "plt.xlabel(r'$\\Gamma t$')\n",
    "plt.ylabel(r'$C(p)$')\n",
    "plt.legend()\n",
    "plt.show()"
   ]
  },
  {
   "cell_type": "code",
   "execution_count": null,
   "metadata": {},
   "outputs": [],
   "source": []
  }
 ],
 "metadata": {
  "kernelspec": {
   "display_name": "Python 3",
   "language": "python",
   "name": "python3"
  },
  "language_info": {
   "codemirror_mode": {
    "name": "ipython",
    "version": 3
   },
   "file_extension": ".py",
   "mimetype": "text/x-python",
   "name": "python",
   "nbconvert_exporter": "python",
   "pygments_lexer": "ipython3",
   "version": "3.8.3"
  }
 },
 "nbformat": 4,
 "nbformat_minor": 2
}
